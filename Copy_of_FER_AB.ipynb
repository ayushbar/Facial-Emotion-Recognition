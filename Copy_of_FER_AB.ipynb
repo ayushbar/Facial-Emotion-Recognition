{
  "nbformat": 4,
  "nbformat_minor": 0,
  "metadata": {
    "colab": {
      "name": "Copy of FER AB",
      "provenance": [],
      "collapsed_sections": []
    },
    "kernelspec": {
      "name": "python3",
      "display_name": "Python 3"
    },
    "accelerator": "TPU"
  },
  "cells": [
    {
      "cell_type": "code",
      "metadata": {
        "id": "YqMM73DWZ98U"
      },
      "source": [
        ""
      ],
      "execution_count": null,
      "outputs": []
    },
    {
      "cell_type": "code",
      "metadata": {
        "id": "Law8UGxTZ5OA",
        "colab": {
          "base_uri": "https://localhost:8080/",
          "height": 34
        },
        "outputId": "3f54620b-a157-4340-93dd-57d2ac4a47f4"
      },
      "source": [
        "from zipfile import ZipFile\n",
        "file_name = \"CK+48.zip\"\n",
        "\n",
        "with ZipFile(file_name,'r') as zip:\n",
        "  zip.extractall()\n",
        "  print('done')\n"
      ],
      "execution_count": null,
      "outputs": [
        {
          "output_type": "stream",
          "text": [
            "done\n"
          ],
          "name": "stdout"
        }
      ]
    },
    {
      "cell_type": "code",
      "metadata": {
        "id": "Uzp5TDJWO2Qh",
        "colab": {
          "base_uri": "https://localhost:8080/",
          "height": 34
        },
        "outputId": "d71b8878-c10c-47d5-a93a-f80f98a98825"
      },
      "source": [
        "from __future__ import print_function\n",
        "import keras\n",
        "from keras.preprocessing.image import ImageDataGenerator\n",
        "from keras.models import Sequential\n",
        "from keras.layers import Dense, Dropout, Activation, Flatten, BatchNormalization\n",
        "from keras.layers import Conv2D, MaxPooling2D\n",
        "from keras.preprocessing.image import ImageDataGenerator\n",
        "import os\n",
        "\n"
      ],
      "execution_count": null,
      "outputs": [
        {
          "output_type": "stream",
          "text": [
            "Using TensorFlow backend.\n"
          ],
          "name": "stderr"
        }
      ]
    },
    {
      "cell_type": "code",
      "metadata": {
        "id": "L3C3VhmqZBAy",
        "colab": {
          "base_uri": "https://localhost:8080/",
          "height": 104
        },
        "outputId": "d88905d1-e327-4055-c11c-2d96e17e5d22"
      },
      "source": [
        "num_classes = 7\n",
        "img_rows, img_cols = 48, 48\n",
        "batch_size = 32\n",
        "\n",
        "train_data_dir = '/content/CK+48/train'\n",
        "validation_data_dir = '/content/CK+48/validation'\n",
        "\n",
        "\n",
        "\n",
        "train_datagen = ImageDataGenerator(\n",
        "      rescale=1./255,\n",
        "      rotation_range=30,\n",
        "      shear_range=0.3,\n",
        "      zoom_range=0.5,\n",
        "      width_shift_range=0.4,\n",
        "      height_shift_range=0.4,\n",
        "      horizontal_flip=True,\n",
        "      fill_mode='nearest')\n",
        "\n",
        "validation_datagen = ImageDataGenerator(rescale=1./255)\n",
        " \n",
        "train_generator = train_datagen.flow_from_directory(\n",
        "        train_data_dir,\n",
        "        color_mode = 'grayscale',\n",
        "        target_size=(img_rows, img_cols),\n",
        "        batch_size=batch_size,\n",
        "        class_mode='categorical',\n",
        "        shuffle=True)\n",
        "\n",
        "validation_generator = validation_datagen.flow_from_directory(\n",
        "        validation_data_dir,\n",
        "        color_mode = 'grayscale',\n",
        "        target_size=(img_rows, img_cols),\n",
        "        batch_size=batch_size,\n",
        "        class_mode='categorical',\n",
        "        shuffle=True)\n"
      ],
      "execution_count": null,
      "outputs": [
        {
          "output_type": "stream",
          "text": [
            "Found 821 images belonging to 7 classes.\n",
            "Found 207 images belonging to 7 classes.\n"
          ],
          "name": "stdout"
        },
        {
          "output_type": "stream",
          "text": [
            "/usr/local/lib/python3.6/dist-packages/keras_preprocessing/image/utils.py:179: UserWarning: Using \".tiff\" files with multiple bands will cause distortion. Please verify your output.\n",
            "  warnings.warn('Using \".tiff\" files with multiple bands '\n"
          ],
          "name": "stderr"
        }
      ]
    },
    {
      "cell_type": "code",
      "metadata": {
        "id": "umPLD3vlpM8c"
      },
      "source": [
        "from keras.models import Sequential\n",
        "from keras.layers.normalization import BatchNormalization\n",
        "from keras.layers.convolutional import Conv2D, MaxPooling2D\n",
        "from keras.layers.advanced_activations import ELU\n",
        "from keras.layers.core import Activation, Flatten, Dropout, Dense"
      ],
      "execution_count": null,
      "outputs": []
    },
    {
      "cell_type": "code",
      "metadata": {
        "id": "yHk74xr6pz5w",
        "colab": {
          "base_uri": "https://localhost:8080/",
          "height": 1000
        },
        "outputId": "ad874210-9c10-45cc-cb14-35329e15385b"
      },
      "source": [
        "model = Sequential()\n",
        "\n",
        "model.add(Conv2D(32, (3, 3), padding = 'same', kernel_initializer=\"he_normal\",\n",
        "                 input_shape = (img_rows, img_cols, 1)))\n",
        "model.add(Activation('elu'))\n",
        "model.add(BatchNormalization())\n",
        "model.add(Conv2D(32, (3, 3), padding = \"same\", kernel_initializer=\"he_normal\", \n",
        "                 input_shape = (img_rows, img_cols, 1)))\n",
        "model.add(Activation('elu'))\n",
        "model.add(BatchNormalization())\n",
        "model.add(MaxPooling2D(pool_size=(2, 2)))\n",
        "model.add(Dropout(0.2))\n",
        "\n",
        "# Block #2: second CONV => RELU => CONV => RELU => POOL\n",
        "# layer set\n",
        "model.add(Conv2D(64, (3, 3), padding=\"same\", kernel_initializer=\"he_normal\"))\n",
        "model.add(Activation('elu'))\n",
        "model.add(BatchNormalization())\n",
        "model.add(Conv2D(64, (3, 3), padding=\"same\", kernel_initializer=\"he_normal\"))\n",
        "model.add(Activation('elu'))\n",
        "model.add(BatchNormalization())\n",
        "model.add(MaxPooling2D(pool_size=(2, 2)))\n",
        "model.add(Dropout(0.2))\n",
        "\n",
        "# Block #3: third CONV => RELU => CONV => RELU => POOL\n",
        "# layer set\n",
        "model.add(Conv2D(128, (3, 3), padding=\"same\", kernel_initializer=\"he_normal\"))\n",
        "model.add(Activation('elu'))\n",
        "model.add(BatchNormalization())\n",
        "model.add(Conv2D(128, (3, 3), padding=\"same\", kernel_initializer=\"he_normal\"))\n",
        "model.add(Activation('elu'))\n",
        "model.add(BatchNormalization())\n",
        "model.add(MaxPooling2D(pool_size=(2, 2)))\n",
        "model.add(Dropout(0.2))\n",
        "\n",
        "model.add(Conv2D(256, (3, 3), padding=\"same\", kernel_initializer=\"he_normal\"))\n",
        "model.add(Activation('elu'))\n",
        "model.add(BatchNormalization())\n",
        "model.add(Conv2D(256, (3, 3), padding=\"same\", kernel_initializer=\"he_normal\"))\n",
        "model.add(Activation('elu'))\n",
        "model.add(BatchNormalization())\n",
        "model.add(MaxPooling2D(pool_size=(2, 2)))\n",
        "model.add(Dropout(0.2))\n",
        "\n",
        "# Block #4: third CONV => RELU => CONV => RELU => POOL\n",
        "# layer set\n",
        "model.add(Conv2D(512, (3, 3), padding=\"same\", kernel_initializer=\"he_normal\"))\n",
        "model.add(Activation('elu'))\n",
        "model.add(BatchNormalization())\n",
        "model.add(Conv2D(512, (3, 3), padding=\"same\", kernel_initializer=\"he_normal\"))\n",
        "model.add(Activation('elu'))\n",
        "model.add(BatchNormalization())\n",
        "model.add(MaxPooling2D(pool_size=(2, 2)))\n",
        "model.add(Dropout(0.2))\n",
        "\n",
        "# Block #5: first set of FC => RELU layers\n",
        "model.add(Flatten())\n",
        "model.add(Dense(64, kernel_initializer=\"he_normal\"))\n",
        "model.add(Activation('elu'))\n",
        "model.add(BatchNormalization())\n",
        "model.add(Dropout(0.2))\n",
        "\n",
        "# Block #6: second set of FC => RELU layers\n",
        "model.add(Dense(64, kernel_initializer=\"he_normal\"))\n",
        "model.add(Activation('elu'))\n",
        "model.add(BatchNormalization())\n",
        "model.add(Dropout(0.2))\n",
        "\n",
        "# Block #7: softmax classifier\n",
        "model.add(Dense(num_classes, kernel_initializer=\"he_normal\"))\n",
        "model.add(Activation(\"softmax\"))\n",
        "\n",
        "print(model.summary())"
      ],
      "execution_count": null,
      "outputs": [
        {
          "output_type": "stream",
          "text": [
            "Model: \"sequential_1\"\n",
            "_________________________________________________________________\n",
            "Layer (type)                 Output Shape              Param #   \n",
            "=================================================================\n",
            "conv2d_1 (Conv2D)            (None, 48, 48, 32)        320       \n",
            "_________________________________________________________________\n",
            "activation_1 (Activation)    (None, 48, 48, 32)        0         \n",
            "_________________________________________________________________\n",
            "batch_normalization_1 (Batch (None, 48, 48, 32)        128       \n",
            "_________________________________________________________________\n",
            "conv2d_2 (Conv2D)            (None, 48, 48, 32)        9248      \n",
            "_________________________________________________________________\n",
            "activation_2 (Activation)    (None, 48, 48, 32)        0         \n",
            "_________________________________________________________________\n",
            "batch_normalization_2 (Batch (None, 48, 48, 32)        128       \n",
            "_________________________________________________________________\n",
            "max_pooling2d_1 (MaxPooling2 (None, 24, 24, 32)        0         \n",
            "_________________________________________________________________\n",
            "dropout_1 (Dropout)          (None, 24, 24, 32)        0         \n",
            "_________________________________________________________________\n",
            "conv2d_3 (Conv2D)            (None, 24, 24, 64)        18496     \n",
            "_________________________________________________________________\n",
            "activation_3 (Activation)    (None, 24, 24, 64)        0         \n",
            "_________________________________________________________________\n",
            "batch_normalization_3 (Batch (None, 24, 24, 64)        256       \n",
            "_________________________________________________________________\n",
            "conv2d_4 (Conv2D)            (None, 24, 24, 64)        36928     \n",
            "_________________________________________________________________\n",
            "activation_4 (Activation)    (None, 24, 24, 64)        0         \n",
            "_________________________________________________________________\n",
            "batch_normalization_4 (Batch (None, 24, 24, 64)        256       \n",
            "_________________________________________________________________\n",
            "max_pooling2d_2 (MaxPooling2 (None, 12, 12, 64)        0         \n",
            "_________________________________________________________________\n",
            "dropout_2 (Dropout)          (None, 12, 12, 64)        0         \n",
            "_________________________________________________________________\n",
            "conv2d_5 (Conv2D)            (None, 12, 12, 128)       73856     \n",
            "_________________________________________________________________\n",
            "activation_5 (Activation)    (None, 12, 12, 128)       0         \n",
            "_________________________________________________________________\n",
            "batch_normalization_5 (Batch (None, 12, 12, 128)       512       \n",
            "_________________________________________________________________\n",
            "conv2d_6 (Conv2D)            (None, 12, 12, 128)       147584    \n",
            "_________________________________________________________________\n",
            "activation_6 (Activation)    (None, 12, 12, 128)       0         \n",
            "_________________________________________________________________\n",
            "batch_normalization_6 (Batch (None, 12, 12, 128)       512       \n",
            "_________________________________________________________________\n",
            "max_pooling2d_3 (MaxPooling2 (None, 6, 6, 128)         0         \n",
            "_________________________________________________________________\n",
            "dropout_3 (Dropout)          (None, 6, 6, 128)         0         \n",
            "_________________________________________________________________\n",
            "conv2d_7 (Conv2D)            (None, 6, 6, 256)         295168    \n",
            "_________________________________________________________________\n",
            "activation_7 (Activation)    (None, 6, 6, 256)         0         \n",
            "_________________________________________________________________\n",
            "batch_normalization_7 (Batch (None, 6, 6, 256)         1024      \n",
            "_________________________________________________________________\n",
            "conv2d_8 (Conv2D)            (None, 6, 6, 256)         590080    \n",
            "_________________________________________________________________\n",
            "activation_8 (Activation)    (None, 6, 6, 256)         0         \n",
            "_________________________________________________________________\n",
            "batch_normalization_8 (Batch (None, 6, 6, 256)         1024      \n",
            "_________________________________________________________________\n",
            "max_pooling2d_4 (MaxPooling2 (None, 3, 3, 256)         0         \n",
            "_________________________________________________________________\n",
            "dropout_4 (Dropout)          (None, 3, 3, 256)         0         \n",
            "_________________________________________________________________\n",
            "conv2d_9 (Conv2D)            (None, 3, 3, 512)         1180160   \n",
            "_________________________________________________________________\n",
            "activation_9 (Activation)    (None, 3, 3, 512)         0         \n",
            "_________________________________________________________________\n",
            "batch_normalization_9 (Batch (None, 3, 3, 512)         2048      \n",
            "_________________________________________________________________\n",
            "conv2d_10 (Conv2D)           (None, 3, 3, 512)         2359808   \n",
            "_________________________________________________________________\n",
            "activation_10 (Activation)   (None, 3, 3, 512)         0         \n",
            "_________________________________________________________________\n",
            "batch_normalization_10 (Batc (None, 3, 3, 512)         2048      \n",
            "_________________________________________________________________\n",
            "max_pooling2d_5 (MaxPooling2 (None, 1, 1, 512)         0         \n",
            "_________________________________________________________________\n",
            "dropout_5 (Dropout)          (None, 1, 1, 512)         0         \n",
            "_________________________________________________________________\n",
            "flatten_1 (Flatten)          (None, 512)               0         \n",
            "_________________________________________________________________\n",
            "dense_1 (Dense)              (None, 64)                32832     \n",
            "_________________________________________________________________\n",
            "activation_11 (Activation)   (None, 64)                0         \n",
            "_________________________________________________________________\n",
            "batch_normalization_11 (Batc (None, 64)                256       \n",
            "_________________________________________________________________\n",
            "dropout_6 (Dropout)          (None, 64)                0         \n",
            "_________________________________________________________________\n",
            "dense_2 (Dense)              (None, 64)                4160      \n",
            "_________________________________________________________________\n",
            "activation_12 (Activation)   (None, 64)                0         \n",
            "_________________________________________________________________\n",
            "batch_normalization_12 (Batc (None, 64)                256       \n",
            "_________________________________________________________________\n",
            "dropout_7 (Dropout)          (None, 64)                0         \n",
            "_________________________________________________________________\n",
            "dense_3 (Dense)              (None, 7)                 455       \n",
            "_________________________________________________________________\n",
            "activation_13 (Activation)   (None, 7)                 0         \n",
            "=================================================================\n",
            "Total params: 4,757,543\n",
            "Trainable params: 4,753,319\n",
            "Non-trainable params: 4,224\n",
            "_________________________________________________________________\n",
            "None\n"
          ],
          "name": "stdout"
        }
      ]
    },
    {
      "cell_type": "code",
      "metadata": {
        "id": "CZo2n0KDqCjE",
        "colab": {
          "base_uri": "https://localhost:8080/",
          "height": 1000
        },
        "outputId": "9b52f599-7f06-4833-d2bd-7d48f0b9b138"
      },
      "source": [
        "from keras.optimizers import RMSprop, SGD, Adam\n",
        "from keras.callbacks import ModelCheckpoint, EarlyStopping, ReduceLROnPlateau\n",
        "import tensorflow as tf\n",
        "\n",
        "\n",
        "class myCallback(tf.keras.callbacks.Callback):\n",
        "  def on_epoch_end(self, epoch, logs={}):\n",
        "    if(logs.get('val_accuracy')>0.93):\n",
        "      print(\"93% hence cancelling\")\n",
        "      self.model.stop_training = True\n",
        "\n",
        "\n",
        "\n",
        "\n",
        "\n",
        "callbacks = myCallback()\n",
        "\n",
        "model.compile(loss = 'categorical_crossentropy',\n",
        "              optimizer = Adam(lr=0.001),\n",
        "              metrics = ['accuracy'])\n",
        "\n",
        "nb_train_samples = 821\n",
        "nb_validation_samples = 207\n",
        "epochs = 300\n",
        "\n",
        "history = model.fit_generator(\n",
        "    train_generator,\n",
        "    steps_per_epoch = nb_train_samples // batch_size,\n",
        "    epochs = epochs,\n",
        "    callbacks = [callbacks],\n",
        "    validation_data = validation_generator,\n",
        "    validation_steps = nb_validation_samples // batch_size)"
      ],
      "execution_count": null,
      "outputs": [
        {
          "output_type": "stream",
          "text": [
            "Epoch 1/300\n",
            "25/25 [==============================] - 33s 1s/step - loss: 0.1578 - accuracy: 0.9480 - val_loss: 0.6976 - val_accuracy: 0.8229\n",
            "Epoch 2/300\n",
            "25/25 [==============================] - 30s 1s/step - loss: 0.1535 - accuracy: 0.9518 - val_loss: 0.4395 - val_accuracy: 0.8286\n",
            "Epoch 3/300\n",
            "25/25 [==============================] - 31s 1s/step - loss: 0.1314 - accuracy: 0.9563 - val_loss: 0.1728 - val_accuracy: 0.8629\n",
            "Epoch 4/300\n",
            "25/25 [==============================] - 30s 1s/step - loss: 0.1416 - accuracy: 0.9589 - val_loss: 1.4045 - val_accuracy: 0.7371\n",
            "Epoch 5/300\n",
            "25/25 [==============================] - 31s 1s/step - loss: 0.1883 - accuracy: 0.9450 - val_loss: 0.2119 - val_accuracy: 0.7657\n",
            "Epoch 6/300\n",
            "25/25 [==============================] - 31s 1s/step - loss: 0.1847 - accuracy: 0.9430 - val_loss: 2.8082 - val_accuracy: 0.7429\n",
            "Epoch 7/300\n",
            "25/25 [==============================] - 30s 1s/step - loss: 0.1963 - accuracy: 0.9383 - val_loss: 0.0068 - val_accuracy: 0.8343\n",
            "Epoch 8/300\n",
            "25/25 [==============================] - 31s 1s/step - loss: 0.1611 - accuracy: 0.9455 - val_loss: 0.6817 - val_accuracy: 0.8490\n",
            "Epoch 9/300\n",
            "25/25 [==============================] - 30s 1s/step - loss: 0.1651 - accuracy: 0.9582 - val_loss: 1.0080 - val_accuracy: 0.7886\n",
            "Epoch 10/300\n",
            "25/25 [==============================] - 30s 1s/step - loss: 0.1296 - accuracy: 0.9582 - val_loss: 0.3394 - val_accuracy: 0.8629\n",
            "Epoch 11/300\n",
            "25/25 [==============================] - 31s 1s/step - loss: 0.1884 - accuracy: 0.9425 - val_loss: 1.1223 - val_accuracy: 0.8629\n",
            "Epoch 12/300\n",
            "25/25 [==============================] - 30s 1s/step - loss: 0.1537 - accuracy: 0.9493 - val_loss: 0.1413 - val_accuracy: 0.8000\n",
            "Epoch 13/300\n",
            "25/25 [==============================] - 32s 1s/step - loss: 0.1265 - accuracy: 0.9556 - val_loss: 2.1703 - val_accuracy: 0.6743\n",
            "Epoch 14/300\n",
            "25/25 [==============================] - 32s 1s/step - loss: 0.1269 - accuracy: 0.9653 - val_loss: 0.0022 - val_accuracy: 0.7543\n",
            "Epoch 15/300\n",
            "25/25 [==============================] - 32s 1s/step - loss: 0.1568 - accuracy: 0.9455 - val_loss: 0.9107 - val_accuracy: 0.8281\n",
            "Epoch 16/300\n",
            "25/25 [==============================] - 32s 1s/step - loss: 0.1612 - accuracy: 0.9531 - val_loss: 0.9915 - val_accuracy: 0.7771\n",
            "Epoch 17/300\n",
            "25/25 [==============================] - 32s 1s/step - loss: 0.1945 - accuracy: 0.9400 - val_loss: 0.3134 - val_accuracy: 0.8000\n",
            "Epoch 18/300\n",
            "25/25 [==============================] - 32s 1s/step - loss: 0.1732 - accuracy: 0.9455 - val_loss: 2.6823 - val_accuracy: 0.7143\n",
            "Epoch 19/300\n",
            "25/25 [==============================] - 31s 1s/step - loss: 0.1750 - accuracy: 0.9460 - val_loss: 0.2371 - val_accuracy: 0.8114\n",
            "Epoch 20/300\n",
            "25/25 [==============================] - 32s 1s/step - loss: 0.2011 - accuracy: 0.9362 - val_loss: 3.7756 - val_accuracy: 0.6971\n",
            "Epoch 21/300\n",
            "25/25 [==============================] - 31s 1s/step - loss: 0.2090 - accuracy: 0.9366 - val_loss: 0.0032 - val_accuracy: 0.8686\n",
            "Epoch 22/300\n",
            "25/25 [==============================] - 31s 1s/step - loss: 0.1674 - accuracy: 0.9392 - val_loss: 0.5108 - val_accuracy: 0.8594\n",
            "Epoch 23/300\n",
            "25/25 [==============================] - 31s 1s/step - loss: 0.1733 - accuracy: 0.9404 - val_loss: 0.2937 - val_accuracy: 0.8286\n",
            "Epoch 24/300\n",
            "25/25 [==============================] - 31s 1s/step - loss: 0.1314 - accuracy: 0.9594 - val_loss: 0.0297 - val_accuracy: 0.8057\n",
            "Epoch 25/300\n",
            "25/25 [==============================] - 32s 1s/step - loss: 0.1414 - accuracy: 0.9569 - val_loss: 0.8528 - val_accuracy: 0.8000\n",
            "Epoch 26/300\n",
            "25/25 [==============================] - 32s 1s/step - loss: 0.1011 - accuracy: 0.9670 - val_loss: 0.0781 - val_accuracy: 0.7943\n",
            "Epoch 27/300\n",
            "25/25 [==============================] - 31s 1s/step - loss: 0.1405 - accuracy: 0.9417 - val_loss: 2.7576 - val_accuracy: 0.7943\n",
            "Epoch 28/300\n",
            "25/25 [==============================] - 32s 1s/step - loss: 0.1843 - accuracy: 0.9455 - val_loss: 0.0162 - val_accuracy: 0.8971\n",
            "Epoch 29/300\n",
            "25/25 [==============================] - 31s 1s/step - loss: 0.1318 - accuracy: 0.9518 - val_loss: 0.7552 - val_accuracy: 0.8594\n",
            "Epoch 30/300\n",
            "25/25 [==============================] - 31s 1s/step - loss: 0.1516 - accuracy: 0.9544 - val_loss: 0.1883 - val_accuracy: 0.8800\n",
            "Epoch 31/300\n",
            "25/25 [==============================] - 31s 1s/step - loss: 0.1588 - accuracy: 0.9569 - val_loss: 0.2417 - val_accuracy: 0.8457\n",
            "Epoch 32/300\n",
            "25/25 [==============================] - 31s 1s/step - loss: 0.1622 - accuracy: 0.9379 - val_loss: 1.9137 - val_accuracy: 0.7714\n",
            "Epoch 33/300\n",
            "25/25 [==============================] - 32s 1s/step - loss: 0.1719 - accuracy: 0.9468 - val_loss: 0.0476 - val_accuracy: 0.7886\n",
            "Epoch 34/300\n",
            "25/25 [==============================] - 32s 1s/step - loss: 0.1875 - accuracy: 0.9392 - val_loss: 2.1637 - val_accuracy: 0.8000\n",
            "Epoch 35/300\n",
            "25/25 [==============================] - 32s 1s/step - loss: 0.1506 - accuracy: 0.9480 - val_loss: 0.5852 - val_accuracy: 0.8914\n",
            "Epoch 36/300\n",
            "25/25 [==============================] - 32s 1s/step - loss: 0.1421 - accuracy: 0.9538 - val_loss: 0.4570 - val_accuracy: 0.8958\n",
            "Epoch 37/300\n",
            "25/25 [==============================] - 31s 1s/step - loss: 0.1816 - accuracy: 0.9434 - val_loss: 0.4176 - val_accuracy: 0.8971\n",
            "Epoch 38/300\n",
            "25/25 [==============================] - 31s 1s/step - loss: 0.1464 - accuracy: 0.9455 - val_loss: 0.0240 - val_accuracy: 0.8629\n",
            "Epoch 39/300\n",
            "25/25 [==============================] - 32s 1s/step - loss: 0.1177 - accuracy: 0.9600 - val_loss: 0.7341 - val_accuracy: 0.8629\n",
            "Epoch 40/300\n",
            "25/25 [==============================] - 31s 1s/step - loss: 0.1170 - accuracy: 0.9582 - val_loss: 0.0182 - val_accuracy: 0.8686\n",
            "Epoch 41/300\n",
            "25/25 [==============================] - 31s 1s/step - loss: 0.1278 - accuracy: 0.9602 - val_loss: 1.1110 - val_accuracy: 0.9029\n",
            "Epoch 42/300\n",
            "25/25 [==============================] - 32s 1s/step - loss: 0.1144 - accuracy: 0.9663 - val_loss: 0.0011 - val_accuracy: 0.9143\n",
            "Epoch 43/300\n",
            "25/25 [==============================] - 32s 1s/step - loss: 0.1400 - accuracy: 0.9569 - val_loss: 0.4074 - val_accuracy: 0.8854\n",
            "Epoch 44/300\n",
            "25/25 [==============================] - 31s 1s/step - loss: 0.1312 - accuracy: 0.9480 - val_loss: 0.1909 - val_accuracy: 0.8914\n",
            "Epoch 45/300\n",
            "25/25 [==============================] - 32s 1s/step - loss: 0.1031 - accuracy: 0.9696 - val_loss: 0.6497 - val_accuracy: 0.8800\n",
            "Epoch 46/300\n",
            "25/25 [==============================] - 32s 1s/step - loss: 0.1288 - accuracy: 0.9569 - val_loss: 1.3646 - val_accuracy: 0.8457\n",
            "Epoch 47/300\n",
            "25/25 [==============================] - 33s 1s/step - loss: 0.1418 - accuracy: 0.9544 - val_loss: 0.1522 - val_accuracy: 0.8571\n",
            "Epoch 48/300\n",
            "25/25 [==============================] - 32s 1s/step - loss: 0.1562 - accuracy: 0.9499 - val_loss: 1.6173 - val_accuracy: 0.8514\n",
            "Epoch 49/300\n",
            "25/25 [==============================] - 33s 1s/step - loss: 0.1092 - accuracy: 0.9607 - val_loss: 0.0042 - val_accuracy: 0.9371\n",
            "93% hence cancelling\n"
          ],
          "name": "stdout"
        }
      ]
    },
    {
      "cell_type": "code",
      "metadata": {
        "id": "YxPR-_WRTtOm",
        "colab": {
          "base_uri": "https://localhost:8080/",
          "height": 121
        },
        "outputId": "c8bb5a3b-321a-4dba-c443-814df45fe0db"
      },
      "source": [
        "from google.colab import drive\n",
        "drive.mount(\"/content/drive\")"
      ],
      "execution_count": null,
      "outputs": [
        {
          "output_type": "stream",
          "text": [
            "Go to this URL in a browser: https://accounts.google.com/o/oauth2/auth?client_id=947318989803-6bn6qk8qdgf4n4g3pfee6491hc0brc4i.apps.googleusercontent.com&redirect_uri=urn%3aietf%3awg%3aoauth%3a2.0%3aoob&response_type=code&scope=email%20https%3a%2f%2fwww.googleapis.com%2fauth%2fdocs.test%20https%3a%2f%2fwww.googleapis.com%2fauth%2fdrive%20https%3a%2f%2fwww.googleapis.com%2fauth%2fdrive.photos.readonly%20https%3a%2f%2fwww.googleapis.com%2fauth%2fpeopleapi.readonly\n",
            "\n",
            "Enter your authorization code:\n",
            "··········\n",
            "Mounted at /content/drive\n"
          ],
          "name": "stdout"
        }
      ]
    },
    {
      "cell_type": "code",
      "metadata": {
        "id": "YbXbsg4VWJD1"
      },
      "source": [
        "model.save(\"/content/drive/My Drive/model_cnn/{NAME}.model\")"
      ],
      "execution_count": null,
      "outputs": []
    },
    {
      "cell_type": "code",
      "metadata": {
        "id": "PO9_SxIdW-7o"
      },
      "source": [
        "model.save(\"/content/drive/My Drive/model_fer.h5\")"
      ],
      "execution_count": null,
      "outputs": []
    },
    {
      "cell_type": "code",
      "metadata": {
        "id": "LGQXxXtBLWzf",
        "colab": {
          "base_uri": "https://localhost:8080/",
          "height": 878
        },
        "outputId": "806e6c63-a78f-44c9-b102-619c8d80d8a7"
      },
      "source": [
        "import matplotlib.pyplot as plt\n",
        "import sklearn\n",
        "from sklearn.metrics import classification_report, confusion_matrix\n",
        "import numpy as np\n",
        "\n",
        "nb_train_samples = 821\n",
        "nb_validation_samples = 207\n",
        "\n",
        "# We need to recreate our validation generator with shuffle = false\n",
        "validation_generator = validation_datagen.flow_from_directory(\n",
        "        validation_data_dir,\n",
        "        color_mode = 'grayscale',\n",
        "        target_size=(img_rows, img_cols),\n",
        "        batch_size=batch_size,\n",
        "        class_mode='categorical',\n",
        "        shuffle=False)\n",
        "\n",
        "class_labels = validation_generator.class_indices\n",
        "class_labels = {v: k for k, v in class_labels.items()}\n",
        "classes = list(class_labels.values())\n",
        "\n",
        "#Confution Matrix and Classification Report\n",
        "Y_pred = model.predict_generator(validation_generator, nb_validation_samples // batch_size+1)\n",
        "y_pred = np.argmax(Y_pred, axis=1)\n",
        "\n",
        "print('Confusion Matrix')\n",
        "print(confusion_matrix(validation_generator.classes, y_pred))\n",
        "print('Classification Report')\n",
        "target_names = list(class_labels.values())\n",
        "print(classification_report(validation_generator.classes, y_pred, target_names=target_names))\n",
        "\n",
        "plt.figure(figsize=(8,8))\n",
        "cnf_matrix = confusion_matrix(validation_generator.classes, y_pred)\n",
        "\n",
        "plt.imshow(cnf_matrix, interpolation='nearest')\n",
        "plt.colorbar()\n",
        "tick_marks = np.arange(len(classes))\n",
        "_ = plt.xticks(tick_marks, classes, rotation=90)\n",
        "_ = plt.yticks(tick_marks, classes)"
      ],
      "execution_count": null,
      "outputs": [
        {
          "output_type": "stream",
          "text": [
            "Found 207 images belonging to 7 classes.\n",
            "Confusion Matrix\n",
            "[[15  0  0  0  9  3  0]\n",
            " [ 0 36  0  0  0  0  0]\n",
            " [ 0  0 10  0  5  0  0]\n",
            " [ 0  0  0 42  0  0  0]\n",
            " [ 0  0  0  0 20  0  0]\n",
            " [ 0  0  0  0  3 14  0]\n",
            " [ 3  0  0  0  0  0 47]]\n",
            "Classification Report\n",
            "              precision    recall  f1-score   support\n",
            "\n",
            "       angry       0.83      0.56      0.67        27\n",
            "     disgust       1.00      1.00      1.00        36\n",
            "        fear       1.00      0.67      0.80        15\n",
            "       happy       1.00      1.00      1.00        42\n",
            "     neutral       0.54      1.00      0.70        20\n",
            "         sad       0.82      0.82      0.82        17\n",
            "    surprise       1.00      0.94      0.97        50\n",
            "\n",
            "    accuracy                           0.89       207\n",
            "   macro avg       0.89      0.86      0.85       207\n",
            "weighted avg       0.92      0.89      0.89       207\n",
            "\n"
          ],
          "name": "stdout"
        },
        {
          "output_type": "display_data",
          "data": {
            "image/png": "[encoded data removed]",
            "text/plain": [
              "<Figure size 576x576 with 2 Axes>"
            ]
          },
          "metadata": {
            "tags": [],
            "needs_background": "light"
          }
        }
      ]
    },
    {
      "cell_type": "code",
      "metadata": {
        "id": "EIXFRNQIkdXu",
        "colab": {
          "base_uri": "https://localhost:8080/",
          "height": 50
        },
        "outputId": "5b115525-48c5-41a4-e0c8-009696d9ed07"
      },
      "source": [
        "validation_generator = validation_datagen.flow_from_directory(\n",
        "        validation_data_dir,\n",
        "        color_mode = 'grayscale',\n",
        "        target_size=(img_rows, img_cols),\n",
        "        batch_size=batch_size,\n",
        "        class_mode='categorical',\n",
        "        shuffle=False)\n",
        "\n",
        "class_labels = validation_generator.class_indices\n",
        "class_labels = {v: k for k, v in class_labels.items()}\n",
        "classes = list(class_labels.values())\n",
        "print(class_labels)"
      ],
      "execution_count": null,
      "outputs": [
        {
          "output_type": "stream",
          "text": [
            "Found 207 images belonging to 7 classes.\n",
            "{0: 'angry', 1: 'disgust', 2: 'fear', 3: 'happy', 4: 'neutral', 5: 'sad', 6: 'surprise'}\n"
          ],
          "name": "stdout"
        }
      ]
    },
    {
      "cell_type": "code",
      "metadata": {
        "id": "xtoSHVweOTAX",
        "colab": {
          "base_uri": "https://localhost:8080/",
          "height": 346
        },
        "outputId": "998a9ad9-0d0d-4731-ac3b-8a644635d441"
      },
      "source": [
        "import cv2\n",
        "from google.colab.patches import cv2_imshow\n",
        "cap = cv2.VideoCapture(0)\n",
        "\n",
        "while True:\n",
        "\n",
        "    ret, frame = cap.read()\n",
        "    cv2_imshow(frame)\n",
        "    if cv2.waitKey(1) == 9: #9 is the Enter Key\n",
        "        break\n",
        "        \n",
        "cap.release()\n",
        "cv2.destroyAllWindows()     "
      ],
      "execution_count": null,
      "outputs": [
        {
          "output_type": "error",
          "ename": "AttributeError",
          "evalue": "ignored",
          "traceback": [
            "\u001b[0;31m---------------------------------------------------------------------------\u001b[0m",
            "\u001b[0;31mAttributeError\u001b[0m                            Traceback (most recent call last)",
            "\u001b[0;32m<ipython-input-61-bd4d4b20e28c>\u001b[0m in \u001b[0;36m<module>\u001b[0;34m()\u001b[0m\n\u001b[1;32m      6\u001b[0m \u001b[0;34m\u001b[0m\u001b[0m\n\u001b[1;32m      7\u001b[0m     \u001b[0mret\u001b[0m\u001b[0;34m,\u001b[0m \u001b[0mframe\u001b[0m \u001b[0;34m=\u001b[0m \u001b[0mcap\u001b[0m\u001b[0;34m.\u001b[0m\u001b[0mread\u001b[0m\u001b[0;34m(\u001b[0m\u001b[0;34m)\u001b[0m\u001b[0;34m\u001b[0m\u001b[0;34m\u001b[0m\u001b[0m\n\u001b[0;32m----> 8\u001b[0;31m     \u001b[0mcv2_imshow\u001b[0m\u001b[0;34m(\u001b[0m\u001b[0mframe\u001b[0m\u001b[0;34m)\u001b[0m\u001b[0;34m\u001b[0m\u001b[0;34m\u001b[0m\u001b[0m\n\u001b[0m\u001b[1;32m      9\u001b[0m     \u001b[0;32mif\u001b[0m \u001b[0mcv2\u001b[0m\u001b[0;34m.\u001b[0m\u001b[0mwaitKey\u001b[0m\u001b[0;34m(\u001b[0m\u001b[0;36m1\u001b[0m\u001b[0;34m)\u001b[0m \u001b[0;34m==\u001b[0m \u001b[0;36m9\u001b[0m\u001b[0;34m:\u001b[0m \u001b[0;31m#9 is the Enter Key\u001b[0m\u001b[0;34m\u001b[0m\u001b[0;34m\u001b[0m\u001b[0m\n\u001b[1;32m     10\u001b[0m         \u001b[0;32mbreak\u001b[0m\u001b[0;34m\u001b[0m\u001b[0;34m\u001b[0m\u001b[0m\n",
            "\u001b[0;32m/usr/local/lib/python3.6/dist-packages/google/colab/patches/__init__.py\u001b[0m in \u001b[0;36mcv2_imshow\u001b[0;34m(a)\u001b[0m\n\u001b[1;32m     20\u001b[0m       \u001b[0mimage\u001b[0m\u001b[0;34m.\u001b[0m\u001b[0;34m\u001b[0m\u001b[0;34m\u001b[0m\u001b[0m\n\u001b[1;32m     21\u001b[0m   \"\"\"\n\u001b[0;32m---> 22\u001b[0;31m   \u001b[0ma\u001b[0m \u001b[0;34m=\u001b[0m \u001b[0ma\u001b[0m\u001b[0;34m.\u001b[0m\u001b[0mclip\u001b[0m\u001b[0;34m(\u001b[0m\u001b[0;36m0\u001b[0m\u001b[0;34m,\u001b[0m \u001b[0;36m255\u001b[0m\u001b[0;34m)\u001b[0m\u001b[0;34m.\u001b[0m\u001b[0mastype\u001b[0m\u001b[0;34m(\u001b[0m\u001b[0;34m'uint8'\u001b[0m\u001b[0;34m)\u001b[0m\u001b[0;34m\u001b[0m\u001b[0;34m\u001b[0m\u001b[0m\n\u001b[0m\u001b[1;32m     23\u001b[0m   \u001b[0;31m# cv2 stores colors as BGR; convert to RGB\u001b[0m\u001b[0;34m\u001b[0m\u001b[0;34m\u001b[0m\u001b[0;34m\u001b[0m\u001b[0m\n\u001b[1;32m     24\u001b[0m   \u001b[0;32mif\u001b[0m \u001b[0ma\u001b[0m\u001b[0;34m.\u001b[0m\u001b[0mndim\u001b[0m \u001b[0;34m==\u001b[0m \u001b[0;36m3\u001b[0m\u001b[0;34m:\u001b[0m\u001b[0;34m\u001b[0m\u001b[0;34m\u001b[0m\u001b[0m\n",
            "\u001b[0;31mAttributeError\u001b[0m: 'NoneType' object has no attribute 'clip'"
          ]
        }
      ]
    },
    {
      "cell_type": "code",
      "metadata": {
        "id": "qCqanMJJuK6Q",
        "colab": {
          "base_uri": "https://localhost:8080/",
          "height": 346
        },
        "outputId": "aa88d9f9-638e-4d1b-aafc-c5e9695b80d3"
      },
      "source": [
        "import cv2\n",
        "import numpy as np\n",
        "from time import sleep\n",
        "from keras.preprocessing.image import img_to_array\n",
        "\n",
        "face_classifier = cv2.CascadeClassifier('/content/CK+48/Haarcascades/haarcascade_frontalface_default.xml')\n",
        "\n",
        "def face_detector(img, che):\n",
        "    # Convert image to grayscale\n",
        "      # if ret is True:\n",
        "    gray = cv2.cvtColor(img, cv2.COLOR_BGR2GRAY)\n",
        "    faces = face_classifier.detectMultiScale(gray, 1.3, 5)\n",
        "    if faces is ():\n",
        "        return (0,0,0,0), np.zeros((48,48), np.uint8), img\n",
        "    \n",
        "    for (x,y,w,h) in faces:\n",
        "        cv2.rectangle(img,(x,y),(x+w,y+h),(255,0,0),2)\n",
        "        roi_gray = gray[y:y+h, x:x+w]\n",
        "\n",
        "    try:\n",
        "        roi_gray = cv2.resize(roi_gray, (48, 48), interpolation = cv2.INTER_AREA)\n",
        "    except:\n",
        "        return (x,w,y,h), np.zeros((48,48), np.uint8), img\n",
        "    return (x,w,y,h), roi_gray, img\n",
        "        \n",
        "    # ... other code ...\n",
        "  \n",
        "\n",
        "    \n",
        "cap = cv2.VideoCapture(0)\n",
        "\n",
        "while True:\n",
        "\n",
        "    ret, frame = cap.read()\n",
        "    rect, face, image = face_detector(frame, ret)\n",
        "    if np.sum([face]) != 0.0:\n",
        "        roi = face.astype(\"float\") / 255.0\n",
        "        roi = img_to_array(roi)\n",
        "        roi = np.expand_dims(roi, axis=0)\n",
        "\n",
        "        # make a prediction on the ROI, then lookup the class\n",
        "        preds = str(classifier.predict_classes(roi, 1, verbose = 0)[0])\n",
        "\n",
        "        if preds == \"[0]\":\n",
        "            label = \"Angry\"\n",
        "        if preds == \"[1]\":\n",
        "            label = \"Disgust\" \n",
        "        if preds == \"[2]\":\n",
        "            label = \"Fear\"       \n",
        "        if preds == \"[3]\":\n",
        "            label = \"Happy\"\n",
        "        if preds == \"[4]\":\n",
        "            label = \"Neutral\"\n",
        "        if preds == \"[5]\":\n",
        "            label = \"Sad\"\n",
        "        if preds == \"[6]\":\n",
        "            label = \"Surprise\"                \n",
        "\n",
        "        label_position = (rect[0] + int((rect[1]/2)), rect[2] + 25)\n",
        "        cv2.putText(image, label, label_position , cv2.FONT_HERSHEY_SIMPLEX,2, (0,255,0), 3)\n",
        "    else:\n",
        "        cv2.putText(image, \"No Face Found\", (20, 60) , cv2.FONT_HERSHEY_SIMPLEX,2, (0,255,0), 3)\n",
        "        \n",
        "    cv2.imshow('All', image)\n",
        "    if cv2.waitKey(1) == 9: #9 is the Enter Key\n",
        "        break\n",
        "        \n",
        "cap.release()\n",
        "cv2.destroyAllWindows()     "
      ],
      "execution_count": null,
      "outputs": [
        {
          "output_type": "error",
          "ename": "error",
          "evalue": "ignored",
          "traceback": [
            "\u001b[0;31m---------------------------------------------------------------------------\u001b[0m",
            "\u001b[0;31merror\u001b[0m                                     Traceback (most recent call last)",
            "\u001b[0;32m<ipython-input-53-e25e5d8c6f85>\u001b[0m in \u001b[0;36m<module>\u001b[0;34m()\u001b[0m\n\u001b[1;32m     33\u001b[0m \u001b[0;34m\u001b[0m\u001b[0m\n\u001b[1;32m     34\u001b[0m     \u001b[0mret\u001b[0m\u001b[0;34m,\u001b[0m \u001b[0mframe\u001b[0m \u001b[0;34m=\u001b[0m \u001b[0mcap\u001b[0m\u001b[0;34m.\u001b[0m\u001b[0mread\u001b[0m\u001b[0;34m(\u001b[0m\u001b[0;34m)\u001b[0m\u001b[0;34m\u001b[0m\u001b[0;34m\u001b[0m\u001b[0m\n\u001b[0;32m---> 35\u001b[0;31m     \u001b[0mrect\u001b[0m\u001b[0;34m,\u001b[0m \u001b[0mface\u001b[0m\u001b[0;34m,\u001b[0m \u001b[0mimage\u001b[0m \u001b[0;34m=\u001b[0m \u001b[0mface_detector\u001b[0m\u001b[0;34m(\u001b[0m\u001b[0mframe\u001b[0m\u001b[0;34m,\u001b[0m \u001b[0mret\u001b[0m\u001b[0;34m)\u001b[0m\u001b[0;34m\u001b[0m\u001b[0;34m\u001b[0m\u001b[0m\n\u001b[0m\u001b[1;32m     36\u001b[0m     \u001b[0;32mif\u001b[0m \u001b[0mnp\u001b[0m\u001b[0;34m.\u001b[0m\u001b[0msum\u001b[0m\u001b[0;34m(\u001b[0m\u001b[0;34m[\u001b[0m\u001b[0mface\u001b[0m\u001b[0;34m]\u001b[0m\u001b[0;34m)\u001b[0m \u001b[0;34m!=\u001b[0m \u001b[0;36m0.0\u001b[0m\u001b[0;34m:\u001b[0m\u001b[0;34m\u001b[0m\u001b[0;34m\u001b[0m\u001b[0m\n\u001b[1;32m     37\u001b[0m         \u001b[0mroi\u001b[0m \u001b[0;34m=\u001b[0m \u001b[0mface\u001b[0m\u001b[0;34m.\u001b[0m\u001b[0mastype\u001b[0m\u001b[0;34m(\u001b[0m\u001b[0;34m\"float\"\u001b[0m\u001b[0;34m)\u001b[0m \u001b[0;34m/\u001b[0m \u001b[0;36m255.0\u001b[0m\u001b[0;34m\u001b[0m\u001b[0;34m\u001b[0m\u001b[0m\n",
            "\u001b[0;32m<ipython-input-53-e25e5d8c6f85>\u001b[0m in \u001b[0;36mface_detector\u001b[0;34m(img, che)\u001b[0m\n\u001b[1;32m      9\u001b[0m     \u001b[0;31m# Convert image to grayscale\u001b[0m\u001b[0;34m\u001b[0m\u001b[0;34m\u001b[0m\u001b[0;34m\u001b[0m\u001b[0m\n\u001b[1;32m     10\u001b[0m       \u001b[0;31m# if ret is True:\u001b[0m\u001b[0;34m\u001b[0m\u001b[0;34m\u001b[0m\u001b[0;34m\u001b[0m\u001b[0m\n\u001b[0;32m---> 11\u001b[0;31m     \u001b[0mgray\u001b[0m \u001b[0;34m=\u001b[0m \u001b[0mcv2\u001b[0m\u001b[0;34m.\u001b[0m\u001b[0mcvtColor\u001b[0m\u001b[0;34m(\u001b[0m\u001b[0mimg\u001b[0m\u001b[0;34m,\u001b[0m \u001b[0mcv2\u001b[0m\u001b[0;34m.\u001b[0m\u001b[0mCOLOR_BGR2GRAY\u001b[0m\u001b[0;34m)\u001b[0m\u001b[0;34m\u001b[0m\u001b[0;34m\u001b[0m\u001b[0m\n\u001b[0m\u001b[1;32m     12\u001b[0m     \u001b[0mfaces\u001b[0m \u001b[0;34m=\u001b[0m \u001b[0mface_classifier\u001b[0m\u001b[0;34m.\u001b[0m\u001b[0mdetectMultiScale\u001b[0m\u001b[0;34m(\u001b[0m\u001b[0mgray\u001b[0m\u001b[0;34m,\u001b[0m \u001b[0;36m1.3\u001b[0m\u001b[0;34m,\u001b[0m \u001b[0;36m5\u001b[0m\u001b[0;34m)\u001b[0m\u001b[0;34m\u001b[0m\u001b[0;34m\u001b[0m\u001b[0m\n\u001b[1;32m     13\u001b[0m     \u001b[0;32mif\u001b[0m \u001b[0mfaces\u001b[0m \u001b[0;32mis\u001b[0m \u001b[0;34m(\u001b[0m\u001b[0;34m)\u001b[0m\u001b[0;34m:\u001b[0m\u001b[0;34m\u001b[0m\u001b[0;34m\u001b[0m\u001b[0m\n",
            "\u001b[0;31merror\u001b[0m: OpenCV(4.1.2) /io/opencv/modules/imgproc/src/color.cpp:182: error: (-215:Assertion failed) !_src.empty() in function 'cvtColor'\n"
          ]
        }
      ]
    }
  ]
}